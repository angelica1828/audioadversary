{
  "nbformat": 4,
  "nbformat_minor": 0,
  "metadata": {
    "colab": {
      "provenance": []
    },
    "kernelspec": {
      "name": "python3",
      "display_name": "Python 3"
    },
    "language_info": {
      "name": "python"
    },
    "accelerator": "GPU",
    "gpuClass": "standard"
  },
  "cells": [
    {
      "cell_type": "markdown",
      "source": [
        "# **Setting up Libraries**"
      ],
      "metadata": {
        "id": "qoi2kvTcqJ-f"
      }
    },
    {
      "cell_type": "code",
      "source": [
        "pip install gtts"
      ],
      "metadata": {
        "colab": {
          "base_uri": "https://localhost:8080/"
        },
        "id": "3faabGcz15oS",
        "outputId": "7864055d-fe34-4c4f-a0f4-51988d931b99"
      },
      "execution_count": null,
      "outputs": [
        {
          "output_type": "stream",
          "name": "stdout",
          "text": [
            "Looking in indexes: https://pypi.org/simple, https://us-python.pkg.dev/colab-wheels/public/simple/\n",
            "Collecting gtts\n",
            "  Downloading gTTS-2.3.1-py3-none-any.whl (28 kB)\n",
            "Requirement already satisfied: requests<3,>=2.27 in /usr/local/lib/python3.9/dist-packages (from gtts) (2.27.1)\n",
            "Requirement already satisfied: click<8.2,>=7.1 in /usr/local/lib/python3.9/dist-packages (from gtts) (8.1.3)\n",
            "Requirement already satisfied: charset-normalizer~=2.0.0 in /usr/local/lib/python3.9/dist-packages (from requests<3,>=2.27->gtts) (2.0.12)\n",
            "Requirement already satisfied: urllib3<1.27,>=1.21.1 in /usr/local/lib/python3.9/dist-packages (from requests<3,>=2.27->gtts) (1.26.15)\n",
            "Requirement already satisfied: certifi>=2017.4.17 in /usr/local/lib/python3.9/dist-packages (from requests<3,>=2.27->gtts) (2022.12.7)\n",
            "Requirement already satisfied: idna<4,>=2.5 in /usr/local/lib/python3.9/dist-packages (from requests<3,>=2.27->gtts) (3.4)\n",
            "Installing collected packages: gtts\n",
            "Successfully installed gtts-2.3.1\n"
          ]
        }
      ]
    },
    {
      "cell_type": "code",
      "source": [
        "!pip install deepspeech"
      ],
      "metadata": {
        "colab": {
          "base_uri": "https://localhost:8080/"
        },
        "id": "nlYmEYnFRU6U",
        "outputId": "f5d362c8-94e3-403e-8efd-9095a17479fe"
      },
      "execution_count": null,
      "outputs": [
        {
          "output_type": "stream",
          "name": "stdout",
          "text": [
            "Looking in indexes: https://pypi.org/simple, https://us-python.pkg.dev/colab-wheels/public/simple/\n",
            "Collecting deepspeech\n",
            "  Downloading deepspeech-0.9.3-cp39-cp39-manylinux1_x86_64.whl (9.2 MB)\n",
            "\u001b[2K     \u001b[90m━━━━━━━━━━━━━━━━━━━━━━━━━━━━━━━━━━━━━━━━\u001b[0m \u001b[32m9.2/9.2 MB\u001b[0m \u001b[31m14.0 MB/s\u001b[0m eta \u001b[36m0:00:00\u001b[0m\n",
            "\u001b[?25hRequirement already satisfied: numpy>=1.19.4 in /usr/local/lib/python3.9/dist-packages (from deepspeech) (1.22.4)\n",
            "Installing collected packages: deepspeech\n",
            "Successfully installed deepspeech-0.9.3\n"
          ]
        }
      ]
    },
    {
      "cell_type": "code",
      "source": [
        "!pip install ds_ctcdecoder"
      ],
      "metadata": {
        "colab": {
          "base_uri": "https://localhost:8080/"
        },
        "id": "zwQ1x4UmQnKA",
        "outputId": "0c4033a9-b1b0-40a6-c119-a5ec13113533"
      },
      "execution_count": null,
      "outputs": [
        {
          "output_type": "stream",
          "name": "stdout",
          "text": [
            "Looking in indexes: https://pypi.org/simple, https://us-python.pkg.dev/colab-wheels/public/simple/\n",
            "Collecting ds_ctcdecoder\n",
            "  Downloading ds_ctcdecoder-0.9.3-cp39-cp39-manylinux1_x86_64.whl (2.1 MB)\n",
            "\u001b[2K     \u001b[90m━━━━━━━━━━━━━━━━━━━━━━━━━━━━━━━━━━━━━━━━\u001b[0m \u001b[32m2.1/2.1 MB\u001b[0m \u001b[31m20.9 MB/s\u001b[0m eta \u001b[36m0:00:00\u001b[0m\n",
            "\u001b[?25hRequirement already satisfied: numpy>=1.19.4 in /usr/local/lib/python3.9/dist-packages (from ds_ctcdecoder) (1.22.4)\n",
            "Installing collected packages: ds_ctcdecoder\n",
            "Successfully installed ds_ctcdecoder-0.9.3\n"
          ]
        }
      ]
    },
    {
      "cell_type": "code",
      "source": [
        "!curl -LO https://github.com/mozilla/DeepSpeech/releases/download/v0.9.3/deepspeech-0.9.3-models.pbmm\n",
        "!curl -LO https://github.com/mozilla/DeepSpeech/releases/download/v0.9.3/deepspeech-0.9.3-models.scorer"
      ],
      "metadata": {
        "colab": {
          "base_uri": "https://localhost:8080/"
        },
        "id": "y0e4k0ukXAHT",
        "outputId": "ae9e8321-9933-43ed-ce85-104bda62190b"
      },
      "execution_count": null,
      "outputs": [
        {
          "output_type": "stream",
          "name": "stdout",
          "text": [
            "  % Total    % Received % Xferd  Average Speed   Time    Time     Time  Current\n",
            "                                 Dload  Upload   Total   Spent    Left  Speed\n",
            "  0     0    0     0    0     0      0      0 --:--:-- --:--:-- --:--:--     0\n",
            "100  180M  100  180M    0     0   170M      0  0:00:01  0:00:01 --:--:--  225M\n",
            "  % Total    % Received % Xferd  Average Speed   Time    Time     Time  Current\n",
            "                                 Dload  Upload   Total   Spent    Left  Speed\n",
            "  0     0    0     0    0     0      0      0 --:--:-- --:--:-- --:--:--     0\n",
            "100  909M  100  909M    0     0   190M      0  0:00:04  0:00:04 --:--:--  202M\n"
          ]
        }
      ]
    },
    {
      "cell_type": "code",
      "execution_count": null,
      "metadata": {
        "id": "Bh_X3_hD9diX"
      },
      "outputs": [],
      "source": [
        "import tensorflow as tf\n",
        "import numpy as np\n",
        "import scipy.io.wavfile as wav\n",
        "import math\n",
        "from IPython.display import Audio, display\n",
        "import IPython.display as ipd\n",
        "import librosa\n",
        "import librosa.display\n",
        "import matplotlib.pyplot as plt\n",
        "import matplotlib.pyplot as plt\n",
        "import soundfile\n",
        "import random\n",
        "from gtts import gTTS\n",
        "import deepspeech\n",
        "import wave\n",
        "import tensorflow.compat.v1 as tfv1\n",
        "from ds_ctcdecoder import Alphabet, UTF8Alphabet,ctc_beam_search_decoder, Scorer\n",
        "import scipy.io.wavfile as wav\n",
        "from tensorflow.python.keras.backend import ctc_label_dense_to_sparse"
      ]
    },
    {
      "cell_type": "code",
      "execution_count": null,
      "metadata": {
        "id": "ZCEBZPwUDGOg"
      },
      "outputs": [],
      "source": [
        "#@title ## Enter Original Audio File\n",
        "\n",
        "#@markdown ---\n",
        "#@markdown ### Enter a file path:\n",
        "input = \"normal0.wav\" #@param {type:\"string\"}\n",
        "#@markdown ---\n",
        "\n"
      ]
    },
    {
      "cell_type": "code",
      "source": [
        "import wave\n",
        "model = deepspeech.Model('deepspeech-0.9.3-models.pbmm')\n",
        "audio_file = 'normal0.wav'\n",
        "scorer_file_path = 'deepspeech-0.9.3-models.scorer'\n",
        "\n",
        "# Load DeepSpeech model and scorer\n",
        "\n",
        "scorer = model.enableExternalScorer(scorer_file_path)\n",
        "# Define function to transcribe audio using the DeepSpeech model and scorer\n",
        "def transcribe_audio(audio_file_path, model):\n",
        "    # Read audio file\n",
        "    with wave.open(audio_file_path, 'rb') as audio_file:\n",
        "        audio = audio_file.readframes(audio_file.getnframes())\n",
        "        audio = np.frombuffer(audio, dtype=np.int16)\n",
        "\n",
        "    # Transcribe audio\n",
        "    transcription = model.stt(audio)\n",
        "    return transcription"
      ],
      "metadata": {
        "id": "ZipVvwIWMsUW"
      },
      "execution_count": null,
      "outputs": []
    },
    {
      "cell_type": "markdown",
      "source": [
        "FEATURE EXTRACTION"
      ],
      "metadata": {
        "id": "CTXut5ztP5ID"
      }
    },
    {
      "cell_type": "code",
      "source": [
        "_MEL_BREAK_FREQUENCY_HERTZ = 700.0\n",
        "_MEL_HIGH_FREQUENCY_Q = 1127.0\n",
        "def freq2mel(frequencies_hertz):\n",
        "    \"\"\"Convert frequency to mel frequency\"\"\"\n",
        "    return _MEL_HIGH_FREQUENCY_Q * np.log1p(frequencies_hertz / _MEL_BREAK_FREQUENCY_HERTZ)"
      ],
      "metadata": {
        "id": "b1wV9p-bPqSI"
      },
      "execution_count": null,
      "outputs": []
    },
    {
      "cell_type": "code",
      "source": [
        "def compute_mfcc_mel_filterbank(spectrogram, sample_rate=16000, lower_edge_hertz=20.0,upper_edge_hertz=8000.0, filterbank_channel_count=40, dtype=tf.float32, name=None):\n",
        "  input_length = spectrogram.shape[-1] #is 257\n",
        "  batch_size = spectrogram.shape[0] #is 1\n",
        "  center_freqs = np.zeros((filterbank_channel_count + 1,))\n",
        "  mel_low = freq2mel(lower_edge_hertz)\n",
        "  mel_high = freq2mel(upper_edge_hertz)\n",
        "  mel_span = mel_high - mel_low\n",
        "  mel_spacing = mel_span / (filterbank_channel_count + 1)\n",
        "  for i in range(filterbank_channel_count + 1):\n",
        "      center_freqs[i] = mel_low + (mel_spacing * (i + 1))\n",
        "\n",
        "  hz_per_sbin = 0.5 * sample_rate / (input_length - 1)\n",
        "  start_index = int(1.5 + (lower_edge_hertz / hz_per_sbin))\n",
        "  end_index = int(upper_edge_hertz / hz_per_sbin)\n",
        "\n",
        "  band_mapper = np.zeros((input_length,))\n",
        "  channel = 0\n",
        "  for i in range(input_length):\n",
        "      melf = freq2mel(i * hz_per_sbin)\n",
        "      if (i < start_index) or (i > end_index):\n",
        "          band_mapper[i] = -2\n",
        "      else:\n",
        "          while (channel < filterbank_channel_count) and (center_freqs[channel] < melf):\n",
        "              channel += 1\n",
        "          band_mapper[i] = channel - 1\n",
        "  weights = np.zeros((input_length,))\n",
        "  for i in range(input_length):\n",
        "    channel = band_mapper[i]\n",
        "    if (i < start_index) or (i > end_index):\n",
        "        weights[i] = 0.0\n",
        "    else:\n",
        "        channel = int(channel)\n",
        "        if (channel >= 0):\n",
        "            weights[i] = (center_freqs[channel + 1] - freq2mel(i * hz_per_sbin)) / (center_freqs[channel + 1] - center_freqs[channel])\n",
        "        else:\n",
        "            weights[i] = (center_freqs[0] - freq2mel(i *hz_per_sbin)) / (center_freqs[0] - mel_low)\n",
        "  bad_channels = []\n",
        "  for c in range(filterbank_channel_count):\n",
        "      band_weight_sum = 0.0\n",
        "      for i in range(input_length):\n",
        "          if band_mapper[i] == (c - 1):\n",
        "              band_weight_sum += (1.0 - weights[i])\n",
        "          elif (band_mapper[i] == c):\n",
        "              band_weight_sum += weights[i]\n",
        "      if (band_weight_sum < 0.5):\n",
        "          bad_channels.append(c)\n",
        "  mapping_matrix_w = np.zeros((filterbank_channel_count, input_length))\n",
        "  mapping_matrix_r = np.zeros((filterbank_channel_count, input_length))\n",
        "\n",
        "  for i in range(start_index, end_index):\n",
        "    channel = int(band_mapper[i])\n",
        "    if (channel >= 0):\n",
        "      mapping_matrix_w[channel][i] = 1.0\n",
        "    channel += 1\n",
        "    if (channel < filterbank_channel_count):\n",
        "      mapping_matrix_r[channel][i] = 1.0\n",
        "\n",
        "  mapping_matrix_w = np.stack([mapping_matrix_w] * batch_size, axis=0)\n",
        "  mapping_matrix_r = np.stack([mapping_matrix_r] * batch_size, axis=0)\n",
        "  weights = np.stack([np.stack([weights] * batch_size, axis=0)] * spectrogram.shape[1], axis=1)\n",
        "\n",
        "  spec_val = tf.math.sqrt(spectrogram)\n",
        "  # spec_val_expanded = tf.expand_dims(spec_val, -1)  # expand last dimension\n",
        "  weighted = tf.math.multiply(spec_val, weights)\n",
        "  res = spec_val - weighted\n",
        "\n",
        "  weighted = tf.transpose(weighted, perm=[0, 2, 1])\n",
        "  res = tf.transpose(res, perm=[0, 2, 1])\n",
        "\n",
        "  vals = tf.matmul(tf.cast(mapping_matrix_w, tf.float32), weighted) + tf.matmul(tf.cast(mapping_matrix_r, tf.float32), res)\n",
        "  return vals"
      ],
      "metadata": {
        "id": "2u6_A3u7P9sT"
      },
      "execution_count": null,
      "outputs": []
    },
    {
      "cell_type": "code",
      "source": [
        "def create_dct_matrix(dct_coefficient_count=13, filterbank_channel_count=40, dtype=tf.float32):\n",
        "    fnorm = np.sqrt(2 / filterbank_channel_count)\n",
        "    arg = np.pi / filterbank_channel_count\n",
        "\n",
        "    arg_ = np.zeros((dct_coefficient_count, filterbank_channel_count))\n",
        "    for i in range(dct_coefficient_count):\n",
        "        for j in range(filterbank_channel_count):\n",
        "            arg_[i][j] = i * arg * (j + 0.5)\n",
        "\n",
        "    return fnorm * np.cos(arg_)"
      ],
      "metadata": {
        "id": "Eo9SfGijQBSd"
      },
      "execution_count": null,
      "outputs": []
    },
    {
      "cell_type": "code",
      "source": [
        "def compute_dct(log_mel_energies, dct_coefficient_count=26, filterbank_channel_count=40, dtype=tf.float32):\n",
        "  batch_size = log_mel_energies.shape[0]\n",
        "  cosines = create_dct_matrix(dct_coefficient_count, filterbank_channel_count)\n",
        "\n",
        "  # Make cosines to have shape (batch_size, dct_coefficient_count, filterbank_channel_count)\n",
        "  cosines = tf.cast(np.stack([cosines] * batch_size, axis=0), dtype)\n",
        "\n",
        "  input_length = log_mel_energies.shape[1]\n",
        "  if input_length > filterbank_channel_count:\n",
        "      input_length = filterbank_channel_count\n",
        "\n",
        "  # return a Tensor of shape (batch_size, N, dct_coefficient_count)\n",
        "  return tf.transpose(tf.matmul(cosines[:, :input_length, :], log_mel_energies), perm=[0, 2, 1])"
      ],
      "metadata": {
        "id": "piKPpeMrQBzF"
      },
      "execution_count": null,
      "outputs": []
    },
    {
      "cell_type": "markdown",
      "source": [
        "NEURAL NETWORK AND LOGITS\n"
      ],
      "metadata": {
        "id": "MXAxQIauYAlI"
      }
    },
    {
      "cell_type": "code",
      "source": [
        "# Value assigning\n",
        "n_cell_dim = 2048\n",
        "cpu_device = '/cpu:0'\n",
        "alphabet = UTF8Alphabet()\n",
        "n_hidden = n_hidden_1 = n_hidden_2 = n_hidden_3 = 2048\n",
        "n_hidden_6 = alphabet.GetSize() + 1\n",
        "lower_edge_hertz=20.0\n",
        "upper_edge_hertz=8000.0\n",
        "sample_rate=16000\n",
        "n_input = 26"
      ],
      "metadata": {
        "id": "AmTKS4tHYDTH"
      },
      "execution_count": null,
      "outputs": []
    },
    {
      "cell_type": "code",
      "source": [
        "def compute_mfcc(spectrogram, sample_rate, lower_edge_hertz=20,upper_edge_hertz=4000, filterbank_channel_count=40, dct_coefficient_count=13, dtype=tf.float32):\n",
        "    # Compute mfcc filterbanks.\n",
        "    vals = compute_mfcc_mel_filterbank(spectrogram, sample_rate, lower_edge_hertz, upper_edge_hertz, filterbank_channel_count)\n",
        "\n",
        "    # Set small values to 1e-12 so that log calculation doesn't run into trouble.\n",
        "    kFilterbankFloor = 1e-12\n",
        "    vals = vals * tf.cast(vals > 0, dtype) + kFilterbankFloor\n",
        "    log_mel_energies = tf.math.log(vals)\n",
        "\n",
        "    # Return results of DCT.\n",
        "    return compute_dct(log_mel_energies, dct_coefficient_count)"
      ],
      "metadata": {
        "id": "sQY9pUjJQEr_"
      },
      "execution_count": null,
      "outputs": []
    },
    {
      "cell_type": "code",
      "source": [
        "def variable_on_cpu(name, shape, initializer):\n",
        "    # Use the /cpu:0 device for scoped operations\n",
        "    with tf.device(cpu_device):\n",
        "        # Create or get apropos variable\n",
        "        var = tfv1.get_variable(name=name, shape=shape, initializer=initializer)\n",
        "    return var"
      ],
      "metadata": {
        "id": "aHghmzbdXrM1"
      },
      "execution_count": null,
      "outputs": []
    },
    {
      "cell_type": "code",
      "source": [
        "def dense(name, x, units, dropout_rate=None, relu=True, layer_norm=False):\n",
        "    with tfv1.variable_scope(name):\n",
        "        bias = variable_on_cpu('bias', [units], tfv1.zeros_initializer())\n",
        "        weights = variable_on_cpu('weights', [x.shape[-1], units], tfv1.keras.initializers.VarianceScaling(scale=1.0, mode=\"fan_avg\", distribution=\"uniform\"))\n",
        "\n",
        "    output = tf.nn.bias_add(tf.matmul(x, weights), bias)\n",
        "\n",
        "    if relu:\n",
        "        output = tf.minimum(tf.nn.relu(output), 20.0)\n",
        "\n",
        "    if layer_norm:\n",
        "        with tfv1.variable_scope(name):\n",
        "            output = tf.contrib.layers.layer_norm(output)\n",
        "\n",
        "    if dropout_rate is not None:\n",
        "        output = tf.nn.dropout(output, rate=dropout_rate)\n",
        "\n",
        "    return output"
      ],
      "metadata": {
        "id": "yEPzbAEGXxfw"
      },
      "execution_count": null,
      "outputs": []
    },
    {
      "cell_type": "code",
      "source": [
        "def rnn_impl_lstmblockfusedcell(x, seq_length, previous_state, reuse):\n",
        "    with tfv1.variable_scope('cudnn_lstm/rnn/multi_rnn_cell/cell_0'):\n",
        "        fw_cell = tf.compat.v1.nn.rnn_cell.LSTMCell(n_cell_dim,\n",
        "                                                    forget_bias=0,\n",
        "                                                    reuse=reuse,\n",
        "                                                    name='cudnn_compatible_lstm_cell')\n",
        "\n",
        "        output, output_state = fw_cell(inputs=x,\n",
        "                                       state=previous_state)\n",
        "\n",
        "    return output, output_state"
      ],
      "metadata": {
        "id": "JMf0g8FyXzpa"
      },
      "execution_count": null,
      "outputs": []
    },
    {
      "cell_type": "code",
      "source": [
        "def create_overlapping_windows(batch_x):\n",
        "  n_context = 9\n",
        "  n_input = 26\n",
        "  batch_size = tf.shape(input=batch_x)[0]\n",
        "  window_width = 2 * n_context + 1\n",
        "  num_channels = n_input\n",
        "\n",
        "  # Create a constant convolution filter using an identity matrix, so that the\n",
        "  # convolution returns patches of the input tensor as is, and we can create\n",
        "  # overlapping windows over the MFCCs.\n",
        "  eye_filter = tf.constant(np.eye(window_width * num_channels).reshape(window_width, num_channels, window_width * num_channels), tf.float32) # pylint: disable=bad-continuation\n",
        "\n",
        "  # Create overlapping windows\n",
        "  batch_x = tf.nn.conv1d(input=batch_x, filters=eye_filter, stride=1, padding='SAME')\n",
        "\n",
        "  # Remove dummy depth dimension and reshape into [batch_size, n_windows, window_width, n_input]\n",
        "  batch_x = tf.reshape(batch_x, [batch_size, -1, window_width, num_channels])\n",
        "\n",
        "  return batch_x"
      ],
      "metadata": {
        "id": "ZfXVgZOrX1PR"
      },
      "execution_count": null,
      "outputs": []
    },
    {
      "cell_type": "code",
      "source": [
        "def create_model(batch_x, seq_length, dropout, reuse=False, batch_size=None, previous_state=(tf.zeros([159, n_cell_dim]), tf.zeros([159, n_cell_dim])), overlap=True):\n",
        "  layers = {}\n",
        "  batch_size = tf.shape(input=batch_x)[0]\n",
        "  batch_x = tf.transpose(a=batch_x, perm=[1 ,0, 2,3])\n",
        "  n_context = 9\n",
        "  n_input = 26\n",
        "\n",
        "  # Reshape to prepare input for first layer\n",
        "  batch_x = tf.reshape(batch_x, [-1, n_input + 2*n_input*n_context])\n",
        "  layers['input_reshaped'] = batch_x\n",
        "\n",
        "  n_hidden = n_hidden_1 = n_hidden_2 = n_hidden_3 = 2048\n",
        "  # The next three blocks will pass `batch_x` through three hidden layers with\n",
        "  # clipped RELU activation and dropout.\n",
        "  layers['layer_1'] = layer_1 = dense('layer_1', batch_x, n_hidden_1, dropout_rate=dropout[0], layer_norm=False)\n",
        "  layers['layer_2'] = layer_2 = dense('layer_2', layer_1, n_hidden_2, dropout_rate=dropout[1], layer_norm=False)\n",
        "  layers['layer_3'] = layer_3 = dense('layer_3', layer_2, n_hidden_3, dropout_rate=dropout[2], layer_norm=False)\n",
        "\n",
        "  # `layer_3` is now reshaped into `[n_steps, batch_size, 2*n_cell_dim]`,\n",
        "  # as the LSTM RNN expects its input to be of shape `[max_time, batch_size, input_size]`.\n",
        "  # layer_3 = tf.reshape(layer_3, [-1, batch_size, n_hidden_3])\n",
        "  # Run through parametrized RNN implementation, as we use different RNNs\n",
        "  # for training and inference\n",
        "  output, output_state = rnn_impl_lstmblockfusedcell(layer_3, seq_length, previous_state , reuse )\n",
        "\n",
        "  # Reshape output from a tensor of shape [n_steps, batch_size, n_cell_dim]\n",
        "  # to a tensor of shape [n_steps*batch_size, n_cell_dim]\n",
        "  output = tf.reshape(output, [-1,2048])\n",
        "  layers['rnn_output'] = output\n",
        "  layers['rnn_output_state'] = output_state\n",
        "\n",
        "  # Now we feed `output` to the fifth hidden layer with clipped RELU activation\n",
        "  layers['layer_5'] = layer_5 = dense('layer_5', output, 2048, dropout_rate=dropout[5], layer_norm=False)\n",
        "\n",
        "  # Now we apply a final linear layer creating `n_classes` dimensional vectors, the logits.\n",
        "  layers['layer_6'] = layer_6 = dense('layer_6', layer_5, n_hidden_6, relu=False)\n",
        "\n",
        "  # Finally we reshape layer_6 from a tensor of shape [n_steps*batch_size, n_hidden_6]\n",
        "  # to the slightly more useful shape [n_steps, batch_size, n_hidden_6].\n",
        "  # Note, that this differs from the input in that it is time-major.\n",
        "  layer_6 = tf.reshape(layer_6, [-1, batch_size, n_hidden_6], name='raw_logits')\n",
        "  layers['raw_logits'] = layer_6\n",
        "  return layer_6"
      ],
      "metadata": {
        "id": "WSb0Gh63X6Ll"
      },
      "execution_count": null,
      "outputs": []
    },
    {
      "cell_type": "code",
      "source": [
        "def periodic_hann_window(window_length, dtype):\n",
        "    return 0.5 - 0.5 * tf.math.cos(2.0 * np.pi * tf.range(tf.cast(window_length,tf.float32), dtype=dtype) / (tf.cast(window_length,tf.float32)))\n",
        "\n",
        "def get_logits(audio, length):\n",
        "  audio = tf.cast(audio / 2 ** 15, tf.float32)\n",
        "  # print(audio.shape)\n",
        "  # performs short-time Fourier transform (STFT) on the audio signal \n",
        "  stfts = tf.signal.stft(\n",
        "          audio,\n",
        "          frame_length=512,\n",
        "          frame_step=320,\n",
        "          fft_length=512,\n",
        "          window_fn=periodic_hann_window)\n",
        "\n",
        "  # power spectral density of the audio signal at each time-frequency point in the STFT\n",
        "  spectrogram = tf.square(tf.abs(stfts))\n",
        "  features = compute_mfcc(spectrogram=spectrogram, sample_rate=sample_rate,\n",
        "                                 upper_edge_hertz=sample_rate / 2, dct_coefficient_count=n_input)\n",
        "  features = create_overlapping_windows(features)\n",
        "  # print(features)\n",
        "  no_dropout = [None] * 6\n",
        "  logits = create_model(features, seq_length=length,dropout=no_dropout, overlap=False)\n",
        "  return logits"
      ],
      "metadata": {
        "id": "5mBFppSwYdD4"
      },
      "execution_count": null,
      "outputs": []
    },
    {
      "cell_type": "code",
      "source": [
        "input = 'normal0.wav'\n",
        "fs, audioip = wav.read(input)\n",
        "assert audioip.dtype == np.int16\n",
        "\n",
        "audios = []\n",
        "lengths = []\n",
        "source_dB = 20 * np.log10(np.max(np.abs(audioip)))\n",
        "length = len(audioip)\n",
        "audios.append(list(audioip))\n",
        "lengths.append(len(audioip))\n",
        "\n",
        "print(\"Start attack..\\n\")\n",
        "batch_size = 1\n",
        "phrase_length = len('without the data the articles useless')\n",
        "max_audio_len = len(audioip)\n",
        "learning_rate = 10\n",
        "audio_sample_rate = 16000\n",
        "feature_win_step = 20\n",
        "audio_step_samples = audio_sample_rate * (feature_win_step / 1000)\n",
        "phrase = 'the quick brown fox jumped over the lazy dog'\n",
        "toks = \" abcdefghijklmnopqrstuvwxyz'-\"\n",
        "target = [[toks.index(x) for x in phrase]]*len(audios)\n",
        "\n",
        "#Initializing everything\n",
        "delta = tf.Variable(np.zeros((batch_size, max_audio_len), dtype=np.float32), name='qq_delta')\n",
        "mask = np.array([[1 if i < l else 0 for i in range(max_audio_len)] for l in lengths])\n",
        "original = np.array(audioip)\n",
        "target_phrase = np.array([list(t)+[0]*(phrase_length-len(t)) for t in target])\n",
        "target_phrase_lengths = np.array([len(x) for x in target])\n",
        "lengths = (np.array(lengths)-(2*audio_step_samples/3))//320\n",
        "rescale = tf.Variable(np.zeros((batch_size,1), dtype=np.float32), name='qq_phrase_lengths')\n",
        "cwmask = np.array([[1 if i < l else 0 for i in range(phrase_length)] for l in (np.array(lengths)-1)//320])\n",
        "c = np.ones((batch_size, phrase_length))\n",
        "importance = c\n",
        "\n",
        "# bound the l_infty norm by 2000\n",
        "apply_delta = tf.clip_by_value(delta, -2000, 2000)*rescale\n",
        "\n",
        "# set the new input to the model to be the above delta plus a mask\n",
        "new_input = apply_delta*mask + original\n",
        "\n",
        "# add a tiny bit of noise\n",
        "noise = tf.random.normal(new_input.shape,stddev=2)\n",
        "pass_in = tf.clip_by_value(new_input+noise, -2**15, 2**15-1)\n",
        "audio = pass_in\n",
        "audio = tf.cast(audio / 2 ** 15, tf.float32)\n",
        "# performs short-time Fourier transform (STFT) on the audio signal \n",
        "stfts = tf.signal.stft(\n",
        "        audio,\n",
        "        frame_length=512,\n",
        "        frame_step=320,\n",
        "        fft_length=512,\n",
        "        window_fn=periodic_hann_window)\n",
        "\n",
        "# power spectral density of the audio signal at each time-frequency point in the STFT\n",
        "spectrogram = tf.square(tf.abs(stfts))\n",
        "features = compute_mfcc(spectrogram=spectrogram, sample_rate=sample_rate,\n",
        "                                upper_edge_hertz=sample_rate / 2, dct_coefficient_count=n_input)\n",
        "features = create_overlapping_windows(features)\n",
        "no_dropout = [None] * 6\n",
        "logits =  get_logits(audio,lengths)"
      ],
      "metadata": {
        "colab": {
          "base_uri": "https://localhost:8080/"
        },
        "id": "E_R6lxEKdmY4",
        "outputId": "d5d6d71a-95ed-4250-d244-fb0df5f4c370"
      },
      "execution_count": null,
      "outputs": [
        {
          "output_type": "stream",
          "name": "stdout",
          "text": [
            "Start attack..\n",
            "\n"
          ]
        },
        {
          "output_type": "stream",
          "name": "stderr",
          "text": [
            "<ipython-input-370-069ead2dd4be>:3: UserWarning: `tf.nn.rnn_cell.LSTMCell` is deprecated and will be removed in a future version. This class is equivalent as `tf.keras.layers.LSTMCell`, and will be replaced by that in Tensorflow 2.0.\n",
            "  fw_cell = tf.compat.v1.nn.rnn_cell.LSTMCell(n_cell_dim,\n"
          ]
        }
      ]
    },
    {
      "cell_type": "code",
      "source": [
        "print(logits)"
      ],
      "metadata": {
        "colab": {
          "base_uri": "https://localhost:8080/"
        },
        "id": "xcMbu_a_f_Pg",
        "outputId": "04f7f81f-74ac-4b7c-ebbd-3c8ead7eac7e"
      },
      "execution_count": null,
      "outputs": [
        {
          "output_type": "stream",
          "name": "stdout",
          "text": [
            "tf.Tensor(\n",
            "[[[-2.56231308e-01  2.34421790e-01 -3.02859664e-01 ... -1.77050114e-01\n",
            "    2.20381215e-01 -3.36979926e-01]]\n",
            "\n",
            " [[-3.84476967e-02  3.47266287e-01 -1.16438285e-01 ... -1.50487244e-01\n",
            "    2.83463269e-01 -4.34533805e-01]]\n",
            "\n",
            " [[ 1.00131206e-01  4.39821064e-01  1.99281517e-02 ... -1.93391562e-01\n",
            "    2.01496840e-01 -3.85772973e-01]]\n",
            "\n",
            " ...\n",
            "\n",
            " [[-4.18566167e-04  1.51893437e-01 -3.82079929e-03 ... -1.05715752e-01\n",
            "    4.16137278e-04 -1.51061118e-01]]\n",
            "\n",
            " [[ 4.92954366e-02  2.63503730e-01 -8.86681080e-02 ... -9.59640220e-02\n",
            "   -1.22602209e-01 -4.49339300e-01]]\n",
            "\n",
            " [[ 2.79167444e-02  2.01020479e-01 -6.46790266e-02 ... -1.14973590e-01\n",
            "   -1.03740603e-01 -5.04016876e-01]]], shape=(159, 1, 256), dtype=float32)\n"
          ]
        }
      ]
    },
    {
      "cell_type": "code",
      "source": [
        "final_deltas = [None]*batch_size\n",
        "MAX = num_iterations = 5000\n",
        "first_hits = np.zeros((batch_size,))\n",
        "best_hits = np.zeros((batch_size,))"
      ],
      "metadata": {
        "id": "MRW1ix7EfQBs"
      },
      "execution_count": null,
      "outputs": []
    },
    {
      "cell_type": "code",
      "source": [
        "def get_probs(delta,mask,original):\n",
        "  apply_delta = tf.clip_by_value(delta, -2000, 2000)*rescale\n",
        "\n",
        "  # set the new input to the model to be the above delta plus a mask\n",
        "  new_input = apply_delta*mask + original\n",
        "\n",
        "  # add a tiny bit of noise\n",
        "  noise = tf.random.normal(new_input.shape,stddev=2)\n",
        "  pass_in = tf.clip_by_value(new_input+noise, -2**15, 2**15-1)\n",
        "  pass_in = tf.cast(pass_in / 2 ** 15, tf.float32)\n",
        "  stfts = tf.signal.stft(\n",
        "        pass_in,\n",
        "        frame_length=512,\n",
        "        frame_step=320,\n",
        "        fft_length=512,\n",
        "        window_fn=periodic_hann_window)\n",
        "  spectrogram = tf.square(tf.abs(stfts))\n",
        "  features = compute_mfcc(spectrogram=spectrogram, sample_rate=sample_rate,\n",
        "                                  upper_edge_hertz=sample_rate / 2, dct_coefficient_count=n_input)\n",
        "  features = create_overlapping_windows(features)\n",
        "  no_dropout = [None] * 6\n",
        "  logits =  get_logits(audio,lengths)\n",
        "  probs = tf.squeeze(tf.nn.softmax(logits, name='logits'))\n",
        "  return probs"
      ],
      "metadata": {
        "id": "Kz6ypUaZfw_i"
      },
      "execution_count": null,
      "outputs": []
    },
    {
      "cell_type": "code",
      "source": [
        "probs = get_probs(delta,mask,original)"
      ],
      "metadata": {
        "colab": {
          "base_uri": "https://localhost:8080/"
        },
        "id": "nZptPcFvxP6I",
        "outputId": "7aaeda4c-52c7-44b1-e19a-6f7bf4455393"
      },
      "execution_count": null,
      "outputs": [
        {
          "output_type": "stream",
          "name": "stderr",
          "text": [
            "<ipython-input-370-069ead2dd4be>:3: UserWarning: `tf.nn.rnn_cell.LSTMCell` is deprecated and will be removed in a future version. This class is equivalent as `tf.keras.layers.LSTMCell`, and will be replaced by that in Tensorflow 2.0.\n",
            "  fw_cell = tf.compat.v1.nn.rnn_cell.LSTMCell(n_cell_dim,\n"
          ]
        }
      ]
    },
    {
      "cell_type": "code",
      "source": [
        "from ds_ctcdecoder import ctc_beam_search_decoder, Scorer\n",
        "lm_alpha = 0.931289039105002\n",
        "lm_beta = 1.1834137581510284\n",
        "scorer_path = '/content/deepspeech-0.9.3-models.scorer'\n",
        "alphabet = UTF8Alphabet()\n",
        "scorer = Scorer(lm_alpha, lm_beta,scorer_path, alphabet)"
      ],
      "metadata": {
        "id": "rOo6Y579mquH"
      },
      "execution_count": null,
      "outputs": []
    },
    {
      "cell_type": "code",
      "source": [
        "l2penalty = float('inf')"
      ],
      "metadata": {
        "id": "lzyWpfxpoFXK"
      },
      "execution_count": null,
      "outputs": []
    },
    {
      "cell_type": "code",
      "source": [
        "target_phrase = tf.cast(target_phrase, tf.int32)\n",
        "target_phrase_lengths = tf.cast(target_phrase_lengths, tf.int32)"
      ],
      "metadata": {
        "id": "P8mlilwBoX2X"
      },
      "execution_count": null,
      "outputs": []
    },
    {
      "cell_type": "code",
      "source": [
        "from tensorflow.python.keras.backend import ctc_label_dense_to_sparse\n",
        "# @tf.function\n",
        "# def loss_func(target_phrase,target_phrase_lengths,logits,new_input,original,l2penalty):\n",
        "def ctcloss_func(target_phrase,target_phrase_lengths,logits): \n",
        "  target_phrase = tf.cast(target_phrase, tf.int32)\n",
        "  target_phrase_lengths = tf.cast(target_phrase_lengths, tf.int32)\n",
        "  target = ctc_label_dense_to_sparse(target_phrase, target_phrase_lengths)\n",
        "  ctcloss = tf.compat.v1.nn.ctc_loss(labels=tf.cast(target, tf.int32),inputs=logits, sequence_length=target_phrase_lengths)\n",
        "  return ctcloss\n",
        "\n",
        "def loss_func(new_input,original,ctcloss):\n",
        "  if not np.isinf(l2penalty):\n",
        "    loss = tf.reduce_mean((new_input-original)**2,axis=1) + l2penalty*ctcloss\n",
        "    print('im here')\n",
        "  else:\n",
        "    loss = ctcloss\n",
        "  return loss\n",
        "\n",
        "def expanded_loss_func():\n",
        "  expanded_loss = tf.constant(0)  "
      ],
      "metadata": {
        "id": "HgEhNYs7n9kg"
      },
      "execution_count": null,
      "outputs": []
    },
    {
      "cell_type": "code",
      "source": [
        "ctcloss = ctcloss_func(target_phrase,target_phrase_lengths,logits)\n",
        "loss = loss_func(new_input,original,ctcloss)"
      ],
      "metadata": {
        "id": "7jqm6PWlr3N8"
      },
      "execution_count": null,
      "outputs": []
    },
    {
      "cell_type": "code",
      "source": [
        "print(ctcloss)"
      ],
      "metadata": {
        "colab": {
          "base_uri": "https://localhost:8080/"
        },
        "id": "Y9hprA-Kr5_8",
        "outputId": "fefccce9-c22e-470f-935e-1943832173a8"
      },
      "execution_count": null,
      "outputs": [
        {
          "output_type": "stream",
          "name": "stdout",
          "text": [
            "tf.Tensor([248.46167], shape=(1,), dtype=float32)\n"
          ]
        }
      ]
    },
    {
      "cell_type": "code",
      "source": [
        "optimizer = tf.keras.optimizers.Adam(learning_rate=learning_rate)"
      ],
      "metadata": {
        "id": "pA8tSy50v7rO"
      },
      "execution_count": null,
      "outputs": []
    },
    {
      "cell_type": "code",
      "source": [
        "with tf.GradientTape() as tape:\n",
        "  tape.watch(logits)\n",
        "  target = ctc_label_dense_to_sparse(target_phrase, target_phrase_lengths)\n",
        "  ctcloss = tf.compat.v1.nn.ctc_loss(labels=tf.cast(target, tf.int32),inputs=logits, sequence_length=target_phrase_lengths)\n",
        "  loss = ctcloss\n",
        "grad,var = zip(optimizer.compute_gradients(loss, [logits],tape=tape)[0])\n",
        "# grad_var = zip(optimizer.compute_gradients(loss, [logits],tape=tape)[0])\n",
        "train = optimizer.apply_gradients(grad_var)"
      ],
      "metadata": {
        "id": "F31lBiqsqoup"
      },
      "execution_count": null,
      "outputs": []
    },
    {
      "cell_type": "code",
      "source": [
        "print(grad)"
      ],
      "metadata": {
        "colab": {
          "base_uri": "https://localhost:8080/"
        },
        "id": "e9cBsWELvQO_",
        "outputId": "93353012-67fd-46ca-d3ef-351683b502f7"
      },
      "execution_count": null,
      "outputs": [
        {
          "output_type": "stream",
          "name": "stdout",
          "text": [
            "(<tf.Tensor: shape=(159, 1, 256), dtype=float32, numpy=\n",
            "array([[[0.00295967, 0.00483427, 0.00282483, ..., 0.00320355,\n",
            "         0.00476687, 0.00273007]],\n",
            "\n",
            "       [[0.00367779, 0.00540879, 0.00340185, ..., 0.00328797,\n",
            "         0.00507447, 0.00247496]],\n",
            "\n",
            "       [[0.00423182, 0.00594364, 0.00390567, ..., 0.00315538,\n",
            "         0.00468328, 0.00260317]],\n",
            "\n",
            "       ...,\n",
            "\n",
            "       [[0.        , 0.        , 0.        , ..., 0.        ,\n",
            "         0.        , 0.        ]],\n",
            "\n",
            "       [[0.        , 0.        , 0.        , ..., 0.        ,\n",
            "         0.        , 0.        ]],\n",
            "\n",
            "       [[0.        , 0.        , 0.        , ..., 0.        ,\n",
            "         0.        , 0.        ]]], dtype=float32)>,)\n"
          ]
        }
      ]
    },
    {
      "cell_type": "code",
      "source": [
        "loss_fn = 'CTC'"
      ],
      "metadata": {
        "id": "q6qqxiDWyYzu"
      },
      "execution_count": null,
      "outputs": []
    },
    {
      "cell_type": "code",
      "source": [
        "target = [[toks.index(x) for x in phrase]]*len(audios)\n",
        "print(type(target))"
      ],
      "metadata": {
        "colab": {
          "base_uri": "https://localhost:8080/"
        },
        "id": "MJDmZOjkyuJh",
        "outputId": "e6393030-5494-4467-d4be-ae1e5d9c1f9f"
      },
      "execution_count": null,
      "outputs": [
        {
          "output_type": "stream",
          "name": "stdout",
          "text": [
            "<class 'list'>\n"
          ]
        }
      ]
    },
    {
      "cell_type": "code",
      "source": [
        "for i in range(2):\n",
        "  if i%10 == 0:\n",
        "    new, delta, probs_out, r_logits = new_input, delta, get_probs(delta,mask,original), logits\n",
        "    lst = [(probs_out, r_logits)]\n",
        "    batch_size = r_logits.shape[1]\n",
        "    for out, logits in lst:\n",
        "        out_list = []\n",
        "        for ii in range(batch_size):\n",
        "            if batch_size == 1:\n",
        "                probs = probs_out\n",
        "            else:\n",
        "                probs = probs_out[:,ii,:]\n",
        "            decoded = tf.nn.ctc_beam_search_decoder(logits, lengths, beam_width=1000)\n",
        "            decoded_sparse = decoded[0]\n",
        "            decoded_dense = tf.sparse.to_dense(decoded_sparse[0])\n",
        "            decoded_sequences = tf.strings.reduce_join(tf.strings.as_string(decoded_dense + 1), axis=1)\n",
        "            out_list.append(decoded_sequences)\n",
        "  feed_dict = {}\n",
        "  target_phrase = tf.cast(target_phrase, tf.int32)\n",
        "  target_phrase_lengths = tf.cast(target_phrase_lengths, tf.int32)\n",
        "  d, el, cl, l, logits, new_input, _ = delta, expanded_loss_func(), ctcloss_func(target_phrase,target_phrase_lengths,logits), \\\n",
        "                                      loss_func(new_input,original,ctcloss), get_logits(pass_in,lengths), new_input,train\n",
        "  print(\"%.3f\"%np.mean(cl), \"\\t\", \"\\t\".join(\"%.3f\"%x for x in cl))\n",
        "  logits = np.argmax(logits,axis=2).T\n",
        "  for ii in range(batch_size):\n",
        "      # Every 100 iterations, check if we've succeeded\n",
        "      # if we have (or if it's the final epoch) then we\n",
        "      # should record our progress and decrease the\n",
        "      # rescale constant.\n",
        "      if (loss_fn == \"CTC\" and i%10 == 0 and out_list[ii] == \"\".join([toks[x] for x in target[ii]])) \\\n",
        "          or (i == MAX-1 and final_deltas[ii] is None):\n",
        "          # Get the current constant\n",
        "          # print('im in loss fn for loop')\n",
        "          rescale = rescale\n",
        "          if rescale[ii]*2000 > np.max(np.abs(d)):\n",
        "              # If we're already below the threshold, then\n",
        "              # just reduce the threshold to the current\n",
        "              # point and save some time.\n",
        "              print(\"It's way over\", np.max(np.abs(d[ii]))/2000.0)\n",
        "              rescale[ii] = np.max(np.abs(d[ii]))/2000.0\n",
        "\n",
        "          # Otherwise reduce it by some constant. The closer\n",
        "          # this number is to 1, the better quality the result\n",
        "          # will be. The smaller, the quicker we'll converge\n",
        "          # on a result but it will be lower quality.\n",
        "          rescale[ii].assign(rescale[ii] * .8)\n",
        "\n",
        "          # Adjust the best solution found so far\n",
        "          # final_deltas[ii] = new_input[ii]\n",
        "\n",
        "          print(\"Worked i=%d ctcloss=%f bound=%f\"%(ii, cl[ii], 2000*rescale[ii][0]))\n",
        "          if (first_hits[ii] == 0):\n",
        "              print(\"First hit for audio {} at iteration {}\".format(ii, i))\n",
        "              first_hits[ii]=i\n",
        "          else:\n",
        "              best_hits[ii]=i\n",
        "\n",
        "          rescale=rescale\n",
        "\n",
        "          print('im saving audio file okay')\n",
        "          wav.write(\"tmp/adv.wav\", 16000, np.array(np.clip(np.round(new_input[ii]), -2**15, 2**15-1),dtype=np.int16))"
      ],
      "metadata": {
        "colab": {
          "base_uri": "https://localhost:8080/",
          "height": 504
        },
        "id": "3un4BeZxlCGz",
        "outputId": "7248109e-f0e9-4713-beec-3cf1bf6475c0"
      },
      "execution_count": null,
      "outputs": [
        {
          "output_type": "stream",
          "name": "stderr",
          "text": [
            "<ipython-input-370-069ead2dd4be>:3: UserWarning: `tf.nn.rnn_cell.LSTMCell` is deprecated and will be removed in a future version. This class is equivalent as `tf.keras.layers.LSTMCell`, and will be replaced by that in Tensorflow 2.0.\n",
            "  fw_cell = tf.compat.v1.nn.rnn_cell.LSTMCell(n_cell_dim,\n"
          ]
        },
        {
          "output_type": "stream",
          "name": "stdout",
          "text": [
            "248.462 \t 248.462\n"
          ]
        },
        {
          "output_type": "error",
          "ename": "InvalidArgumentError",
          "evalue": "ignored",
          "traceback": [
            "\u001b[0;31m---------------------------------------------------------------------------\u001b[0m",
            "\u001b[0;31mInvalidArgumentError\u001b[0m                      Traceback (most recent call last)",
            "\u001b[0;32m<ipython-input-390-063e42590384>\u001b[0m in \u001b[0;36m<cell line: 1>\u001b[0;34m()\u001b[0m\n\u001b[1;32m     17\u001b[0m             \u001b[0mout_list\u001b[0m\u001b[0;34m.\u001b[0m\u001b[0mappend\u001b[0m\u001b[0;34m(\u001b[0m\u001b[0mdecoded_sequences\u001b[0m\u001b[0;34m)\u001b[0m\u001b[0;34m\u001b[0m\u001b[0;34m\u001b[0m\u001b[0m\n\u001b[1;32m     18\u001b[0m   \u001b[0mfeed_dict\u001b[0m \u001b[0;34m=\u001b[0m \u001b[0;34m{\u001b[0m\u001b[0;34m}\u001b[0m\u001b[0;34m\u001b[0m\u001b[0;34m\u001b[0m\u001b[0m\n\u001b[0;32m---> 19\u001b[0;31m   \u001b[0md\u001b[0m\u001b[0;34m,\u001b[0m \u001b[0mel\u001b[0m\u001b[0;34m,\u001b[0m \u001b[0mcl\u001b[0m\u001b[0;34m,\u001b[0m \u001b[0ml\u001b[0m\u001b[0;34m,\u001b[0m \u001b[0mlogits\u001b[0m\u001b[0;34m,\u001b[0m \u001b[0mnew_input\u001b[0m\u001b[0;34m,\u001b[0m \u001b[0m_\u001b[0m \u001b[0;34m=\u001b[0m \u001b[0mdelta\u001b[0m\u001b[0;34m,\u001b[0m \u001b[0mexpanded_loss_func\u001b[0m\u001b[0;34m(\u001b[0m\u001b[0;34m)\u001b[0m\u001b[0;34m,\u001b[0m \u001b[0mctcloss_func\u001b[0m\u001b[0;34m(\u001b[0m\u001b[0mtarget_phrase\u001b[0m\u001b[0;34m,\u001b[0m\u001b[0mtarget_phrase_lengths\u001b[0m\u001b[0;34m,\u001b[0m\u001b[0mlogits\u001b[0m\u001b[0;34m)\u001b[0m\u001b[0;34m,\u001b[0m\u001b[0;31m \u001b[0m\u001b[0;31m\\\u001b[0m\u001b[0;34m\u001b[0m\u001b[0;34m\u001b[0m\u001b[0m\n\u001b[0m\u001b[1;32m     20\u001b[0m                                       \u001b[0mloss_func\u001b[0m\u001b[0;34m(\u001b[0m\u001b[0mnew_input\u001b[0m\u001b[0;34m,\u001b[0m\u001b[0moriginal\u001b[0m\u001b[0;34m,\u001b[0m\u001b[0mctcloss\u001b[0m\u001b[0;34m)\u001b[0m\u001b[0;34m,\u001b[0m \u001b[0mget_logits\u001b[0m\u001b[0;34m(\u001b[0m\u001b[0mpass_in\u001b[0m\u001b[0;34m,\u001b[0m\u001b[0mlengths\u001b[0m\u001b[0;34m)\u001b[0m\u001b[0;34m,\u001b[0m \u001b[0mnew_input\u001b[0m\u001b[0;34m,\u001b[0m\u001b[0mtrain\u001b[0m\u001b[0;34m\u001b[0m\u001b[0;34m\u001b[0m\u001b[0m\n\u001b[1;32m     21\u001b[0m   \u001b[0mprint\u001b[0m\u001b[0;34m(\u001b[0m\u001b[0;34m\"%.3f\"\u001b[0m\u001b[0;34m%\u001b[0m\u001b[0mnp\u001b[0m\u001b[0;34m.\u001b[0m\u001b[0mmean\u001b[0m\u001b[0;34m(\u001b[0m\u001b[0mcl\u001b[0m\u001b[0;34m)\u001b[0m\u001b[0;34m,\u001b[0m \u001b[0;34m\"\\t\"\u001b[0m\u001b[0;34m,\u001b[0m \u001b[0;34m\"\\t\"\u001b[0m\u001b[0;34m.\u001b[0m\u001b[0mjoin\u001b[0m\u001b[0;34m(\u001b[0m\u001b[0;34m\"%.3f\"\u001b[0m\u001b[0;34m%\u001b[0m\u001b[0mx\u001b[0m \u001b[0;32mfor\u001b[0m \u001b[0mx\u001b[0m \u001b[0;32min\u001b[0m \u001b[0mcl\u001b[0m\u001b[0;34m)\u001b[0m\u001b[0;34m)\u001b[0m\u001b[0;34m\u001b[0m\u001b[0;34m\u001b[0m\u001b[0m\n",
            "\u001b[0;32m<ipython-input-382-52ca0848dd27>\u001b[0m in \u001b[0;36mctcloss_func\u001b[0;34m(target_phrase, target_phrase_lengths, logits)\u001b[0m\n\u001b[1;32m      6\u001b[0m   \u001b[0mtarget_phrase_lengths\u001b[0m \u001b[0;34m=\u001b[0m \u001b[0mtf\u001b[0m\u001b[0;34m.\u001b[0m\u001b[0mcast\u001b[0m\u001b[0;34m(\u001b[0m\u001b[0mtarget_phrase_lengths\u001b[0m\u001b[0;34m,\u001b[0m \u001b[0mtf\u001b[0m\u001b[0;34m.\u001b[0m\u001b[0mint32\u001b[0m\u001b[0;34m)\u001b[0m\u001b[0;34m\u001b[0m\u001b[0;34m\u001b[0m\u001b[0m\n\u001b[1;32m      7\u001b[0m   \u001b[0mtarget\u001b[0m \u001b[0;34m=\u001b[0m \u001b[0mctc_label_dense_to_sparse\u001b[0m\u001b[0;34m(\u001b[0m\u001b[0mtarget_phrase\u001b[0m\u001b[0;34m,\u001b[0m \u001b[0mtarget_phrase_lengths\u001b[0m\u001b[0;34m)\u001b[0m\u001b[0;34m\u001b[0m\u001b[0;34m\u001b[0m\u001b[0m\n\u001b[0;32m----> 8\u001b[0;31m   \u001b[0mctcloss\u001b[0m \u001b[0;34m=\u001b[0m \u001b[0mtf\u001b[0m\u001b[0;34m.\u001b[0m\u001b[0mcompat\u001b[0m\u001b[0;34m.\u001b[0m\u001b[0mv1\u001b[0m\u001b[0;34m.\u001b[0m\u001b[0mnn\u001b[0m\u001b[0;34m.\u001b[0m\u001b[0mctc_loss\u001b[0m\u001b[0;34m(\u001b[0m\u001b[0mlabels\u001b[0m\u001b[0;34m=\u001b[0m\u001b[0mtf\u001b[0m\u001b[0;34m.\u001b[0m\u001b[0mcast\u001b[0m\u001b[0;34m(\u001b[0m\u001b[0mtarget\u001b[0m\u001b[0;34m,\u001b[0m \u001b[0mtf\u001b[0m\u001b[0;34m.\u001b[0m\u001b[0mint32\u001b[0m\u001b[0;34m)\u001b[0m\u001b[0;34m,\u001b[0m\u001b[0minputs\u001b[0m\u001b[0;34m=\u001b[0m\u001b[0mlogits\u001b[0m\u001b[0;34m,\u001b[0m \u001b[0msequence_length\u001b[0m\u001b[0;34m=\u001b[0m\u001b[0mtarget_phrase_lengths\u001b[0m\u001b[0;34m)\u001b[0m\u001b[0;34m\u001b[0m\u001b[0;34m\u001b[0m\u001b[0m\n\u001b[0m\u001b[1;32m      9\u001b[0m   \u001b[0;32mreturn\u001b[0m \u001b[0mctcloss\u001b[0m\u001b[0;34m\u001b[0m\u001b[0;34m\u001b[0m\u001b[0m\n\u001b[1;32m     10\u001b[0m \u001b[0;34m\u001b[0m\u001b[0m\n",
            "\u001b[0;32m/usr/local/lib/python3.9/dist-packages/tensorflow/python/util/traceback_utils.py\u001b[0m in \u001b[0;36merror_handler\u001b[0;34m(*args, **kwargs)\u001b[0m\n\u001b[1;32m    151\u001b[0m     \u001b[0;32mexcept\u001b[0m \u001b[0mException\u001b[0m \u001b[0;32mas\u001b[0m \u001b[0me\u001b[0m\u001b[0;34m:\u001b[0m\u001b[0;34m\u001b[0m\u001b[0;34m\u001b[0m\u001b[0m\n\u001b[1;32m    152\u001b[0m       \u001b[0mfiltered_tb\u001b[0m \u001b[0;34m=\u001b[0m \u001b[0m_process_traceback_frames\u001b[0m\u001b[0;34m(\u001b[0m\u001b[0me\u001b[0m\u001b[0;34m.\u001b[0m\u001b[0m__traceback__\u001b[0m\u001b[0;34m)\u001b[0m\u001b[0;34m\u001b[0m\u001b[0;34m\u001b[0m\u001b[0m\n\u001b[0;32m--> 153\u001b[0;31m       \u001b[0;32mraise\u001b[0m \u001b[0me\u001b[0m\u001b[0;34m.\u001b[0m\u001b[0mwith_traceback\u001b[0m\u001b[0;34m(\u001b[0m\u001b[0mfiltered_tb\u001b[0m\u001b[0;34m)\u001b[0m \u001b[0;32mfrom\u001b[0m \u001b[0;32mNone\u001b[0m\u001b[0;34m\u001b[0m\u001b[0;34m\u001b[0m\u001b[0m\n\u001b[0m\u001b[1;32m    154\u001b[0m     \u001b[0;32mfinally\u001b[0m\u001b[0;34m:\u001b[0m\u001b[0;34m\u001b[0m\u001b[0;34m\u001b[0m\u001b[0m\n\u001b[1;32m    155\u001b[0m       \u001b[0;32mdel\u001b[0m \u001b[0mfiltered_tb\u001b[0m\u001b[0;34m\u001b[0m\u001b[0;34m\u001b[0m\u001b[0m\n",
            "\u001b[0;32m/usr/local/lib/python3.9/dist-packages/tensorflow/python/framework/ops.py\u001b[0m in \u001b[0;36mraise_from_not_ok_status\u001b[0;34m(e, name)\u001b[0m\n\u001b[1;32m   7260\u001b[0m \u001b[0;32mdef\u001b[0m \u001b[0mraise_from_not_ok_status\u001b[0m\u001b[0;34m(\u001b[0m\u001b[0me\u001b[0m\u001b[0;34m,\u001b[0m \u001b[0mname\u001b[0m\u001b[0;34m)\u001b[0m\u001b[0;34m:\u001b[0m\u001b[0;34m\u001b[0m\u001b[0;34m\u001b[0m\u001b[0m\n\u001b[1;32m   7261\u001b[0m   \u001b[0me\u001b[0m\u001b[0;34m.\u001b[0m\u001b[0mmessage\u001b[0m \u001b[0;34m+=\u001b[0m \u001b[0;34m(\u001b[0m\u001b[0;34m\" name: \"\u001b[0m \u001b[0;34m+\u001b[0m \u001b[0mname\u001b[0m \u001b[0;32mif\u001b[0m \u001b[0mname\u001b[0m \u001b[0;32mis\u001b[0m \u001b[0;32mnot\u001b[0m \u001b[0;32mNone\u001b[0m \u001b[0;32melse\u001b[0m \u001b[0;34m\"\"\u001b[0m\u001b[0;34m)\u001b[0m\u001b[0;34m\u001b[0m\u001b[0;34m\u001b[0m\u001b[0m\n\u001b[0;32m-> 7262\u001b[0;31m   \u001b[0;32mraise\u001b[0m \u001b[0mcore\u001b[0m\u001b[0;34m.\u001b[0m\u001b[0m_status_to_exception\u001b[0m\u001b[0;34m(\u001b[0m\u001b[0me\u001b[0m\u001b[0;34m)\u001b[0m \u001b[0;32mfrom\u001b[0m \u001b[0;32mNone\u001b[0m  \u001b[0;31m# pylint: disable=protected-access\u001b[0m\u001b[0;34m\u001b[0m\u001b[0;34m\u001b[0m\u001b[0m\n\u001b[0m\u001b[1;32m   7263\u001b[0m \u001b[0;34m\u001b[0m\u001b[0m\n\u001b[1;32m   7264\u001b[0m \u001b[0;34m\u001b[0m\u001b[0m\n",
            "\u001b[0;31mInvalidArgumentError\u001b[0m: Value for attr 'T' of int64 is not in the list of allowed values: float, double\n\t; NodeDef: {{node CTCLoss}}; Op<name=CTCLoss; signature=inputs:T, labels_indices:int64, labels_values:int32, sequence_length:int32 -> loss:T, gradient:T; attr=preprocess_collapse_repeated:bool,default=false; attr=ctc_merge_repeated:bool,default=true; attr=ignore_longer_outputs_than_inputs:bool,default=false; attr=T:type,default=DT_FLOAT,allowed=[DT_FLOAT, DT_DOUBLE]> [Op:CTCLoss]"
          ]
        }
      ]
    },
    {
      "cell_type": "code",
      "source": [
        "import IPython.display as ipd\n",
        "ipd.Audio('normal0.wav')"
      ],
      "metadata": {
        "id": "AyUEREh23hIZ",
        "colab": {
          "base_uri": "https://localhost:8080/",
          "height": 75
        },
        "outputId": "1a7189a2-790f-4d57-f4eb-d01de9d6a4f2"
      },
      "execution_count": null,
      "outputs": [
        {
          "output_type": "execute_result",
          "data": {
            "text/plain": [
              "<IPython.lib.display.Audio object>"
            ],
            "text/html": [
              "\n",
              "                <audio  controls=\"controls\" >\n",
              "                    <source src=\"data:audio/x-wav;base64,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\" type=\"audio/x-wav\" />\n",
              "                    Your browser does not support the audio element.\n",
              "                </audio>\n",
              "              "
            ]
          },
          "metadata": {},
          "execution_count": 22
        }
      ]
    },
    {
      "cell_type": "code",
      "source": [
        "import IPython.display as ipd\n",
        "ipd.Audio('tmp/adv.wav')"
      ],
      "metadata": {
        "id": "lrxpJSP3yDid",
        "colab": {
          "base_uri": "https://localhost:8080/",
          "height": 332
        },
        "outputId": "7fce6c34-725c-4b4d-f62f-275780945cc4"
      },
      "execution_count": null,
      "outputs": [
        {
          "output_type": "error",
          "ename": "ValueError",
          "evalue": "ignored",
          "traceback": [
            "\u001b[0;31m---------------------------------------------------------------------------\u001b[0m",
            "\u001b[0;31mValueError\u001b[0m                                Traceback (most recent call last)",
            "\u001b[0;32m<ipython-input-23-b644c0ac2762>\u001b[0m in \u001b[0;36m<cell line: 2>\u001b[0;34m()\u001b[0m\n\u001b[1;32m      1\u001b[0m \u001b[0;32mimport\u001b[0m \u001b[0mIPython\u001b[0m\u001b[0;34m.\u001b[0m\u001b[0mdisplay\u001b[0m \u001b[0;32mas\u001b[0m \u001b[0mipd\u001b[0m\u001b[0;34m\u001b[0m\u001b[0;34m\u001b[0m\u001b[0m\n\u001b[0;32m----> 2\u001b[0;31m \u001b[0mipd\u001b[0m\u001b[0;34m.\u001b[0m\u001b[0mAudio\u001b[0m\u001b[0;34m(\u001b[0m\u001b[0;34m'tmp/adv.wav'\u001b[0m\u001b[0;34m)\u001b[0m\u001b[0;34m\u001b[0m\u001b[0;34m\u001b[0m\u001b[0m\n\u001b[0m",
            "\u001b[0;32m/usr/local/lib/python3.9/dist-packages/IPython/lib/display.py\u001b[0m in \u001b[0;36m__init__\u001b[0;34m(self, data, filename, url, embed, rate, autoplay, normalize, element_id)\u001b[0m\n\u001b[1;32m    114\u001b[0m         \u001b[0;32mif\u001b[0m \u001b[0mself\u001b[0m\u001b[0;34m.\u001b[0m\u001b[0mdata\u001b[0m \u001b[0;32mis\u001b[0m \u001b[0;32mnot\u001b[0m \u001b[0;32mNone\u001b[0m \u001b[0;32mand\u001b[0m \u001b[0;32mnot\u001b[0m \u001b[0misinstance\u001b[0m\u001b[0;34m(\u001b[0m\u001b[0mself\u001b[0m\u001b[0;34m.\u001b[0m\u001b[0mdata\u001b[0m\u001b[0;34m,\u001b[0m \u001b[0mbytes\u001b[0m\u001b[0;34m)\u001b[0m\u001b[0;34m:\u001b[0m\u001b[0;34m\u001b[0m\u001b[0;34m\u001b[0m\u001b[0m\n\u001b[1;32m    115\u001b[0m             \u001b[0;32mif\u001b[0m \u001b[0mrate\u001b[0m \u001b[0;32mis\u001b[0m \u001b[0;32mNone\u001b[0m\u001b[0;34m:\u001b[0m\u001b[0;34m\u001b[0m\u001b[0;34m\u001b[0m\u001b[0m\n\u001b[0;32m--> 116\u001b[0;31m                 \u001b[0;32mraise\u001b[0m \u001b[0mValueError\u001b[0m\u001b[0;34m(\u001b[0m\u001b[0;34m\"rate must be specified when data is a numpy array or list of audio samples.\"\u001b[0m\u001b[0;34m)\u001b[0m\u001b[0;34m\u001b[0m\u001b[0;34m\u001b[0m\u001b[0m\n\u001b[0m\u001b[1;32m    117\u001b[0m             \u001b[0mself\u001b[0m\u001b[0;34m.\u001b[0m\u001b[0mdata\u001b[0m \u001b[0;34m=\u001b[0m \u001b[0mAudio\u001b[0m\u001b[0;34m.\u001b[0m\u001b[0m_make_wav\u001b[0m\u001b[0;34m(\u001b[0m\u001b[0mdata\u001b[0m\u001b[0;34m,\u001b[0m \u001b[0mrate\u001b[0m\u001b[0;34m,\u001b[0m \u001b[0mnormalize\u001b[0m\u001b[0;34m)\u001b[0m\u001b[0;34m\u001b[0m\u001b[0;34m\u001b[0m\u001b[0m\n\u001b[1;32m    118\u001b[0m \u001b[0;34m\u001b[0m\u001b[0m\n",
            "\u001b[0;31mValueError\u001b[0m: rate must be specified when data is a numpy array or list of audio samples."
          ]
        }
      ]
    }
  ]
}